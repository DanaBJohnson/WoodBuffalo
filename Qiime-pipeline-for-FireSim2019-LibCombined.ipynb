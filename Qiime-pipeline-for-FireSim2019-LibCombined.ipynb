{
 "cells": [
  {
   "cell_type": "markdown",
   "metadata": {},
   "source": [
    "### Import all sequences"
   ]
  },
  {
   "cell_type": "code",
   "execution_count": 4,
   "metadata": {},
   "outputs": [
    {
     "name": "stdout",
     "output_type": "stream",
     "text": [
      "\u001b[32mImported ../seqs/LibCombined as CasavaOneEightSingleLanePerSampleDirFmt to ../data/LibCombined/full-diversity-seqs.qza\u001b[0m\r\n"
     ]
    }
   ],
   "source": [
    "#import sequences into qiime2\n",
    "!qiime tools import \\\n",
    "    --type 'SampleData[PairedEndSequencesWithQuality]' \\\n",
    "    --input-format CasavaOneEightSingleLanePerSampleDirFmt \\\n",
    "    --input-path ../seqs/LibCombined \\\n",
    "    --output-path ../data/LibCombined/full-diversity-seqs.qza"
   ]
  },
  {
   "cell_type": "code",
   "execution_count": 5,
   "metadata": {},
   "outputs": [
    {
     "name": "stdout",
     "output_type": "stream",
     "text": [
      "\u001b[32mSaved Visualization to: ../data/LibCombined/full-diversity-seqs.qzv\u001b[0m\r\n"
     ]
    }
   ],
   "source": [
    "!qiime demux summarize \\\n",
    "--i-data ../data/LibCombined/full-diversity-seqs.qza \\\n",
    "--o-visualization ../data/LibCombined/full-diversity-seqs.qzv"
   ]
  },
  {
   "cell_type": "code",
   "execution_count": 4,
   "metadata": {},
   "outputs": [
    {
     "name": "stdout",
     "output_type": "stream",
     "text": [
      "Press the 'q' key, Control-C, or Control-D to quit. This view may no longer be accessible or work correctly after quitting.\n",
      "Press the 'q' key, Control-C, or Control-D to quit. This view may no longer be accessible or work correctly after quitting."
     ]
    }
   ],
   "source": [
    "!qiime tools view ../data/LibCombined/full-diversity-seqs.qzv"
   ]
  },
  {
   "cell_type": "markdown",
   "metadata": {},
   "source": [
    "### Denoise the sequences and create OTU table"
   ]
  },
  {
   "cell_type": "code",
   "execution_count": 4,
   "metadata": {},
   "outputs": [
    {
     "name": "stdout",
     "output_type": "stream",
     "text": [
      "Usage: \u001b[34mqiime dada2 denoise-paired\u001b[0m [OPTIONS]\r\n",
      "\r\n",
      "  This method denoises paired-end sequences, dereplicates them, and filters\r\n",
      "  chimeras.\r\n",
      "\r\n",
      "\u001b[1mInputs\u001b[0m:\r\n",
      "  \u001b[34m\u001b[4m--i-demultiplexed-seqs\u001b[0m ARTIFACT \u001b[32mSampleData[PairedEndSequencesWithQuality]\u001b[0m\r\n",
      "                         The paired-end demultiplexed sequences to be\r\n",
      "                         denoised.                                  \u001b[35m[required]\u001b[0m\r\n",
      "\u001b[1mParameters\u001b[0m:\r\n",
      "  \u001b[34m\u001b[4m--p-trunc-len-f\u001b[0m INTEGER\r\n",
      "                         Position at which forward read sequences should be\r\n",
      "                         truncated due to decrease in quality. This truncates\r\n",
      "                         the 3' end of the of the input sequences, which will\r\n",
      "                         be the bases that were sequenced in the last cycles.\r\n",
      "                         Reads that are shorter than this value will be\r\n",
      "                         discarded. After this parameter is applied there must\r\n",
      "                         still be at least a 12 nucleotide overlap between the\r\n",
      "                         forward and reverse reads. If 0 is provided, no\r\n",
      "                         truncation or length filtering will be performed\r\n",
      "                                                                    \u001b[35m[required]\u001b[0m\r\n",
      "  \u001b[34m\u001b[4m--p-trunc-len-r\u001b[0m INTEGER\r\n",
      "                         Position at which reverse read sequences should be\r\n",
      "                         truncated due to decrease in quality. This truncates\r\n",
      "                         the 3' end of the of the input sequences, which will\r\n",
      "                         be the bases that were sequenced in the last cycles.\r\n",
      "                         Reads that are shorter than this value will be\r\n",
      "                         discarded. After this parameter is applied there must\r\n",
      "                         still be at least a 12 nucleotide overlap between the\r\n",
      "                         forward and reverse reads. If 0 is provided, no\r\n",
      "                         truncation or length filtering will be performed\r\n",
      "                                                                    \u001b[35m[required]\u001b[0m\r\n",
      "  \u001b[34m--p-trim-left-f\u001b[0m INTEGER\r\n",
      "                         Position at which forward read sequences should be\r\n",
      "                         trimmed due to low quality. This trims the 5' end of\r\n",
      "                         the input sequences, which will be the bases that\r\n",
      "                         were sequenced in the first cycles.      \u001b[35m[default: 0]\u001b[0m\r\n",
      "  \u001b[34m--p-trim-left-r\u001b[0m INTEGER\r\n",
      "                         Position at which reverse read sequences should be\r\n",
      "                         trimmed due to low quality. This trims the 5' end of\r\n",
      "                         the input sequences, which will be the bases that\r\n",
      "                         were sequenced in the first cycles.      \u001b[35m[default: 0]\u001b[0m\r\n",
      "  \u001b[34m--p-max-ee-f\u001b[0m NUMBER    Forward reads with number of expected errors higher\r\n",
      "                         than this value will be discarded.     \u001b[35m[default: 2.0]\u001b[0m\r\n",
      "  \u001b[34m--p-max-ee-r\u001b[0m NUMBER    Reverse reads with number of expected errors higher\r\n",
      "                         than this value will be discarded.     \u001b[35m[default: 2.0]\u001b[0m\r\n",
      "  \u001b[34m--p-trunc-q\u001b[0m INTEGER    Reads are truncated at the first instance of a\r\n",
      "                         quality score less than or equal to this value. If\r\n",
      "                         the resulting read is then shorter than `\u001b[4mtrunc-len-f\u001b[0m`\r\n",
      "                         or `\u001b[4mtrunc-len-r\u001b[0m` (depending on the direction of the\r\n",
      "                         read) it is discarded.                   \u001b[35m[default: 2]\u001b[0m\r\n",
      "  \u001b[34m--p-pooling-method\u001b[0m TEXT \u001b[32mChoices('pseudo', 'independent')\u001b[0m\r\n",
      "                         The method used to pool samples for denoising.\r\n",
      "                         \"independent\": Samples are denoised indpendently.\r\n",
      "                         \"pseudo\": The pseudo-pooling method is used to\r\n",
      "                         approximate pooling of samples. In short, samples are\r\n",
      "                         denoised independently once, ASVs detected in at\r\n",
      "                         least 2 samples are recorded, and samples are\r\n",
      "                         denoised independently a second time, but this time\r\n",
      "                         with prior knowledge of the recorded ASVs and thus\r\n",
      "                         higher sensitivity to those ASVs.\r\n",
      "                                                      \u001b[35m[default: 'independent']\u001b[0m\r\n",
      "  \u001b[34m--p-chimera-method\u001b[0m TEXT \u001b[32mChoices('consensus', 'none', 'pooled')\u001b[0m\r\n",
      "                         The method used to remove chimeras. \"none\": No\r\n",
      "                         chimera removal is performed. \"pooled\": All reads are\r\n",
      "                         pooled prior to chimera detection. \"consensus\":\r\n",
      "                         Chimeras are detected in samples individually, and\r\n",
      "                         sequences found chimeric in a sufficient fraction of\r\n",
      "                         samples are removed.           \u001b[35m[default: 'consensus']\u001b[0m\r\n",
      "  \u001b[34m--p-min-fold-parent-over-abundance\u001b[0m NUMBER\r\n",
      "                         The minimum abundance of potential parents of a\r\n",
      "                         sequence being tested as chimeric, expressed as a\r\n",
      "                         fold-change versus the abundance of the sequence\r\n",
      "                         being tested. Values should be greater than or equal\r\n",
      "                         to 1 (i.e. parents should be more abundant than the\r\n",
      "                         sequence being tested). This parameter has no effect\r\n",
      "                         if \u001b[4mchimera-method\u001b[0m is \"none\".           \u001b[35m[default: 1.0]\u001b[0m\r\n",
      "  \u001b[34m--p-n-threads\u001b[0m INTEGER  The number of threads to use for multithreaded\r\n",
      "                         processing. If 0 is provided, all available cores\r\n",
      "                         will be used.                            \u001b[35m[default: 1]\u001b[0m\r\n",
      "  \u001b[34m--p-n-reads-learn\u001b[0m INTEGER\r\n",
      "                         The number of reads to use when training the error\r\n",
      "                         model. Smaller numbers will result in a shorter run\r\n",
      "                         time but a less reliable error model.\r\n",
      "                                                            \u001b[35m[default: 1000000]\u001b[0m\r\n",
      "  \u001b[34m--p-hashed-feature-ids\u001b[0m / \u001b[34m--p-no-hashed-feature-ids\u001b[0m\r\n",
      "                         If true, the feature ids in the resulting table will\r\n",
      "                         be presented as hashes of the sequences defining each\r\n",
      "                         feature. The hash will always be the same for the\r\n",
      "                         same sequence so this allows feature tables to be\r\n",
      "                         merged across runs of this method. You should only\r\n",
      "                         merge tables if the exact same parameters are used\r\n",
      "                         for each run.                         \u001b[35m[default: True]\u001b[0m\r\n",
      "\u001b[1mOutputs\u001b[0m:\r\n",
      "  \u001b[34m\u001b[4m--o-table\u001b[0m ARTIFACT \u001b[32mFeatureTable[Frequency]\u001b[0m\r\n",
      "                         The resulting feature table.               \u001b[35m[required]\u001b[0m\r\n",
      "  \u001b[34m\u001b[4m--o-representative-sequences\u001b[0m ARTIFACT \u001b[32mFeatureData[Sequence]\u001b[0m\r\n",
      "                         The resulting feature sequences. Each feature in the\r\n",
      "                         feature table will be represented by exactly one\r\n",
      "                         sequence, and these sequences will be the joined\r\n",
      "                         paired-end sequences.                      \u001b[35m[required]\u001b[0m\r\n",
      "  \u001b[34m\u001b[4m--o-denoising-stats\u001b[0m ARTIFACT \u001b[32mSampleData[DADA2Stats]\u001b[0m\r\n",
      "                                                                    \u001b[35m[required]\u001b[0m\r\n",
      "\u001b[1mMiscellaneous\u001b[0m:\r\n",
      "  \u001b[34m--output-dir\u001b[0m PATH      Output unspecified results to a directory\r\n",
      "  \u001b[34m--verbose\u001b[0m / \u001b[34m--quiet\u001b[0m    Display verbose output to stdout and/or stderr\r\n",
      "                         during execution of this action. Or silence output if\r\n",
      "                         execution is successful (silence is golden).\r\n",
      "  \u001b[34m--examples\u001b[0m             Show usage examples and exit.\r\n",
      "  \u001b[34m--citations\u001b[0m            Show citations and exit.\r\n",
      "  \u001b[34m--help\u001b[0m                 Show this message and exit.\r\n"
     ]
    }
   ],
   "source": [
    "!qiime dada2 denoise-paired --help"
   ]
  },
  {
   "cell_type": "code",
   "execution_count": 7,
   "metadata": {
    "scrolled": true
   },
   "outputs": [
    {
     "name": "stdout",
     "output_type": "stream",
     "text": [
      "Running external command line application(s). This may print messages to stdout and/or stderr.\n",
      "The command(s) being run are below. These commands cannot be manually re-run as they will depend on temporary files that no longer exist.\n",
      "\n",
      "Command: run_dada_paired.R /var/folders/cb/6fpykkvj2pl0g6rq7_tjvms00000gn/T/tmp88fcmyh5/forward /var/folders/cb/6fpykkvj2pl0g6rq7_tjvms00000gn/T/tmp88fcmyh5/reverse /var/folders/cb/6fpykkvj2pl0g6rq7_tjvms00000gn/T/tmp88fcmyh5/output.tsv.biom /var/folders/cb/6fpykkvj2pl0g6rq7_tjvms00000gn/T/tmp88fcmyh5/track.tsv /var/folders/cb/6fpykkvj2pl0g6rq7_tjvms00000gn/T/tmp88fcmyh5/filt_f /var/folders/cb/6fpykkvj2pl0g6rq7_tjvms00000gn/T/tmp88fcmyh5/filt_r 182 161 13 13 2.0 2.0 2 independent consensus 1.0 0 1000000\n",
      "\n",
      "R version 4.0.3 (2020-10-10) \n",
      "Loading required package: Rcpp\n",
      "DADA2: 1.18.0 / Rcpp: 1.0.6 / RcppParallel: 5.0.2 \n",
      "1) Filtering ..................................................................................................................................................................................................................................................................................................................................................................................................................................................................................................................................................................................................................................................................................................................................................................................................................................................................................................................................................................................................................................................................................................................................................\n",
      "2) Learning Error Rates\n",
      "171484976 total bases in 1014704 reads from 29 samples will be used for learning the error rates.\n",
      "150176192 total bases in 1014704 reads from 29 samples will be used for learning the error rates.\n",
      "3) Denoise samples ..................................................................................................................................................................................................................................................................................................................................................................................................................................................................................................................................................................................................................................................................................................................................................................................................................................................................................................................................................................................................................................................................................................................................................\n",
      "..................................................................................................................................................................................................................................................................................................................................................................................................................................................................................................................................................................................................................................................................................................................................................................................................................................................................................................................................................................................................................................................................................................................................................\n",
      "4) Remove chimeras (method = consensus)\n",
      "6) Write output\n",
      "\u001b[32mSaved FeatureTable[Frequency] to: ../data/LibCombined/full-diversity-table.qza\u001b[0m\n",
      "\u001b[32mSaved FeatureData[Sequence] to: ../data/LibCombined/full-diversity-rep-seqs.qza\u001b[0m\n",
      "\u001b[32mSaved SampleData[DADA2Stats] to: ../data/LibCombined/full-diversity-stats/denoising_stats.qza\u001b[0m\n"
     ]
    }
   ],
   "source": [
    "# Trim primers off the beginning of the sequences where there is noise- to 13- and trim the ends of the \n",
    "#    sequences where the quality score at the 25th percentile drops below 35, which is at 189 for the fwd reads\n",
    "#    and 161 for the rev reads.\n",
    "\n",
    "!qiime dada2 denoise-paired --verbose \\\n",
    "  --i-demultiplexed-seqs ../data/LibCombined/full-diversity-seqs.qza \\\n",
    "  --o-table ../data/LibCombined/full-diversity-table \\\n",
    "  --o-representative-sequences ../data/LibCombined/full-diversity-rep-seqs \\\n",
    "  --output-dir ../data/LibCombined/full-diversity-stats \\\n",
    "  --p-n-threads 0 \\\n",
    "  --p-trim-left-f 13 \\\n",
    "  --p-trim-left-r 13 \\\n",
    "  --p-trunc-len-f 182 \\\n",
    "  --p-trunc-len-r 161 \\"
   ]
  },
  {
   "cell_type": "code",
   "execution_count": 8,
   "metadata": {},
   "outputs": [
    {
     "name": "stdout",
     "output_type": "stream",
     "text": [
      "\u001b[32mSaved Visualization to: ../data/LibCombined/full-diversity-table.qzv\u001b[0m\r\n"
     ]
    }
   ],
   "source": [
    "!qiime feature-table summarize \\\n",
    "    --i-table ../data/LibCombined/full-diversity-table.qza \\\n",
    "    --o-visualization ../data/LibCombined/full-diversity-table.qzv \n"
   ]
  },
  {
   "cell_type": "code",
   "execution_count": 8,
   "metadata": {},
   "outputs": [
    {
     "name": "stdout",
     "output_type": "stream",
     "text": [
      "^C\r\n",
      "\r\n",
      "Aborted!\r\n"
     ]
    }
   ],
   "source": [
    "!qiime feature-table tabulate-seqs \\\n",
    "    --i-data ../data/LibCombined/full-diversity-rep-seqs.qza \\\n",
    "    --o-visualization ../data/LibCombined/full-diversity-rep-seqs.qzv"
   ]
  },
  {
   "cell_type": "code",
   "execution_count": 10,
   "metadata": {},
   "outputs": [
    {
     "name": "stdout",
     "output_type": "stream",
     "text": [
      "Press the 'q' key, Control-C, or Control-D to quit. This view may no longer be accessible or work correctly after quitting.\n",
      "Press the 'q' key, Control-C, or Control-D to quit. This view may no longer be accessible or work correctly after quitting."
     ]
    }
   ],
   "source": [
    "!qiime tools view ../data/LibCombined/full-diversity-table.qzv"
   ]
  },
  {
   "cell_type": "code",
   "execution_count": 11,
   "metadata": {},
   "outputs": [
    {
     "name": "stdout",
     "output_type": "stream",
     "text": [
      "Press the 'q' key, Control-C, or Control-D to quit. This view may no longer be accessible or work correctly after quitting.\n",
      "Press the 'q' key, Control-C, or Control-D to quit. This view may no longer be accessible or work correctly after quitting."
     ]
    }
   ],
   "source": [
    "!qiime tools view ../data/LibCombined/full-diversity-rep-seqs.qzv"
   ]
  },
  {
   "cell_type": "markdown",
   "metadata": {},
   "source": [
    "### Assign taxonomy"
   ]
  },
  {
   "cell_type": "code",
   "execution_count": 12,
   "metadata": {},
   "outputs": [
    {
     "name": "stdout",
     "output_type": "stream",
     "text": [
      "\u001b[32mSaved FeatureData[Taxonomy] to: ../data/LibCombined/full-diversity-taxonomy.qza\u001b[0m\r\n"
     ]
    }
   ],
   "source": [
    "!qiime feature-classifier classify-sklearn \\\n",
    "  --i-classifier silva-138-99-515-806-nb-classifier.qza \\\n",
    "  --i-reads ../data/LibCombined/full-diversity-rep-seqs.qza \\\n",
    "  --o-classification ../data/LibCombined/full-diversity-taxonomy.qza "
   ]
  },
  {
   "cell_type": "code",
   "execution_count": 1,
   "metadata": {},
   "outputs": [
    {
     "name": "stdout",
     "output_type": "stream",
     "text": [
      "Usage: \u001b[34mqiime feature-classifier classify-sklearn\u001b[0m [OPTIONS]\r\n",
      "\r\n",
      "  Classify reads by taxon using a fitted classifier.\r\n",
      "\r\n",
      "\u001b[1mInputs\u001b[0m:\r\n",
      "  \u001b[34m\u001b[4m--i-reads\u001b[0m ARTIFACT \u001b[32mFeatureData[Sequence]\u001b[0m\r\n",
      "                         The feature data to be classified.         \u001b[35m[required]\u001b[0m\r\n",
      "  \u001b[34m\u001b[4m--i-classifier\u001b[0m ARTIFACT\r\n",
      "    \u001b[32mTaxonomicClassifier\u001b[0m  The taxonomic classifier for classifying the reads.\r\n",
      "                                                                    \u001b[35m[required]\u001b[0m\r\n",
      "\u001b[1mParameters\u001b[0m:\r\n",
      "  \u001b[34m--p-reads-per-batch\u001b[0m VALUE \u001b[32mInt % Range(1, None) | Str % Choices('auto')\u001b[0m\r\n",
      "                         Number of reads to process in each batch. If \"auto\",\r\n",
      "                         this parameter is autoscaled to min( number of query\r\n",
      "                         sequences / \u001b[4mn-jobs\u001b[0m, 20000).         \u001b[35m[default: 'auto']\u001b[0m\r\n",
      "  \u001b[34m--p-n-jobs\u001b[0m INTEGER     The maximum number of concurrently worker processes.\r\n",
      "                         If -1 all CPUs are used. If 1 is given, no parallel\r\n",
      "                         computing code is used at all, which is useful for\r\n",
      "                         debugging. For \u001b[4mn-jobs\u001b[0m below -1, (n_cpus + 1 + \u001b[4mn-jobs\u001b[0m)\r\n",
      "                         are used. Thus for \u001b[4mn-jobs\u001b[0m = -2, all CPUs but one are\r\n",
      "                         used.                                    \u001b[35m[default: 1]\u001b[0m\r\n",
      "  \u001b[34m--p-pre-dispatch\u001b[0m TEXT  \"all\" or expression, as in \"3*n_jobs\". The number of\r\n",
      "                         batches (of tasks) to be pre-dispatched.\r\n",
      "                                                         \u001b[35m[default: '2*n_jobs']\u001b[0m\r\n",
      "  \u001b[34m--p-confidence\u001b[0m VALUE \u001b[32mFloat % Range(0, 1, inclusive_end=True) | Str %\u001b[0m\r\n",
      "    \u001b[32mChoices('disable')\u001b[0m   Confidence threshold for limiting taxonomic depth.\r\n",
      "                         Set to \"disable\" to disable confidence calculation,\r\n",
      "                         or 0 to calculate confidence but not apply it to\r\n",
      "                         limit the taxonomic depth of the assignments.\r\n",
      "                                                                \u001b[35m[default: 0.7]\u001b[0m\r\n",
      "  \u001b[34m--p-read-orientation\u001b[0m TEXT \u001b[32mChoices('same', 'reverse-complement', 'auto')\u001b[0m\r\n",
      "                         Direction of reads with respect to reference\r\n",
      "                         sequences. same will cause reads to be classified\r\n",
      "                         unchanged; reverse-complement will cause reads to be\r\n",
      "                         reversed and complemented prior to classification.\r\n",
      "                         \"auto\" will autodetect orientation based on the\r\n",
      "                         confidence estimates for the first 100 reads.\r\n",
      "                                                             \u001b[35m[default: 'auto']\u001b[0m\r\n",
      "\u001b[1mOutputs\u001b[0m:\r\n",
      "  \u001b[34m\u001b[4m--o-classification\u001b[0m ARTIFACT \u001b[32mFeatureData[Taxonomy]\u001b[0m\r\n",
      "                                                                    \u001b[35m[required]\u001b[0m\r\n",
      "\u001b[1mMiscellaneous\u001b[0m:\r\n",
      "  \u001b[34m--output-dir\u001b[0m PATH      Output unspecified results to a directory\r\n",
      "  \u001b[34m--verbose\u001b[0m / \u001b[34m--quiet\u001b[0m    Display verbose output to stdout and/or stderr\r\n",
      "                         during execution of this action. Or silence output if\r\n",
      "                         execution is successful (silence is golden).\r\n",
      "  \u001b[34m--examples\u001b[0m             Show usage examples and exit.\r\n",
      "  \u001b[34m--citations\u001b[0m            Show citations and exit.\r\n",
      "  \u001b[34m--help\u001b[0m                 Show this message and exit.\r\n"
     ]
    }
   ],
   "source": [
    "!qiime feature-classifier classify-sklearn --help"
   ]
  },
  {
   "cell_type": "markdown",
   "metadata": {},
   "source": [
    "### Export files and create a .biom file"
   ]
  },
  {
   "cell_type": "code",
   "execution_count": 1,
   "metadata": {},
   "outputs": [],
   "source": [
    "!mkdir ../data/LibCombined/full-diversity_OTU_table"
   ]
  },
  {
   "cell_type": "code",
   "execution_count": 2,
   "metadata": {},
   "outputs": [
    {
     "name": "stdout",
     "output_type": "stream",
     "text": [
      "\u001b[32mExported ../data/LibCombined/full-diversity-table.qza as BIOMV210DirFmt to directory ../data/LibCombined/full-diversity_OTU_table\u001b[0m\n",
      "\u001b[32mExported ../data/LibCombined/full-diversity-rep-seqs.qza as DNASequencesDirectoryFormat to directory ../data/LibCombined/full-diversity_OTU_table\u001b[0m\n",
      "\u001b[32mExported ../data/LibCombined/full-diversity-taxonomy.qza as TSVTaxonomyDirectoryFormat to directory ../data/LibCombined/full-diversity_OTU_table\u001b[0m\n"
     ]
    }
   ],
   "source": [
    "!qiime tools export --input-path ../data/LibCombined/full-diversity-table.qza --output-path ../data/LibCombined/full-diversity_OTU_table\n",
    "!qiime tools export --input-path ../data/LibCombined/full-diversity-rep-seqs.qza --output-path ../data/LibCombined/full-diversity_OTU_table\n",
    "!qiime tools export --input-path ../data/LibCombined/full-diversity-taxonomy.qza --output-path ../data/LibCombined/full-diversity_OTU_table"
   ]
  },
  {
   "cell_type": "code",
   "execution_count": 3,
   "metadata": {},
   "outputs": [],
   "source": [
    "## Copy sample data I think.\n",
    "\n",
    "!cp ../temporary-metadata.csv ../data/LibCombined/full-diversity_OTU_table/"
   ]
  },
  {
   "cell_type": "code",
   "execution_count": 4,
   "metadata": {},
   "outputs": [
    {
     "name": "stdout",
     "output_type": "stream",
     "text": [
      "dna-sequences.fasta    taxonomy.tsv\r\n",
      "feature-table.biom     temporary-metadata.csv\r\n"
     ]
    }
   ],
   "source": [
    "!ls ../data/LibCombined/full-diversity_OTU_table/"
   ]
  },
  {
   "cell_type": "code",
   "execution_count": 5,
   "metadata": {},
   "outputs": [],
   "source": [
    "!biom add-metadata \\\n",
    "-i ../data/LibCombined/full-diversity_OTU_table/feature-table.biom \\\n",
    "-o ../data/LibCombined/full-diversity_OTU_table/feature-table-metaD.biom \\\n",
    "-m ../data/LibCombined/full-diversity_OTU_table/temporary-metadata.csv"
   ]
  },
  {
   "cell_type": "code",
   "execution_count": 6,
   "metadata": {},
   "outputs": [
    {
     "name": "stdout",
     "output_type": "stream",
     "text": [
      "dna-sequences.fasta      feature-table.biom       temporary-metadata.csv\r\n",
      "feature-table-metaD.biom taxonomy.tsv\r\n"
     ]
    }
   ],
   "source": [
    "!ls ../data/LibCombined/full-diversity_OTU_table/"
   ]
  },
  {
   "cell_type": "code",
   "execution_count": 7,
   "metadata": {},
   "outputs": [],
   "source": [
    "!biom add-metadata \\\n",
    "-i ../data/LibCombined/full-diversity_OTU_table/feature-table-metaD.biom \\\n",
    "-o ../data/LibCombined/full-diversity_OTU_table/feature-table-metaD-tax.biom \\\n",
    "--observation-metadata-fp ../data/LibCombined/full-diversity_OTU_table/taxonomy.tsv \\\n",
    "--sc-separated taxonomy \\\n",
    "--observation-header OTUID,taxonomy"
   ]
  },
  {
   "cell_type": "code",
   "execution_count": 8,
   "metadata": {},
   "outputs": [],
   "source": [
    "!biom summarize-table \\\n",
    "-i ../data/LibCombined/full-diversity_OTU_table/feature-table-metaD-tax.biom \\\n",
    "-o ../data/LibCombined/full-diversity_OTU_table/feature-table-metaD-tax-summary.txt"
   ]
  },
  {
   "cell_type": "code",
   "execution_count": 9,
   "metadata": {},
   "outputs": [
    {
     "name": "stdout",
     "output_type": "stream",
     "text": [
      "Num samples: 1,106\r\n",
      "Num observations: 45,559\r\n",
      "Total count: 29,008,631\r\n",
      "Table density (fraction of non-zero values): 0.010\r\n",
      "\r\n",
      "Counts/sample summary:\r\n",
      " Min: 0.000\r\n",
      " Max: 172,818.000\r\n",
      " Median: 22,873.500\r\n",
      " Mean: 26,228.419\r\n",
      " Std. dev.: 20,503.031\r\n",
      " Sample Metadata Categories: None provided\r\n",
      " Observation Metadata Categories: taxonomy\r\n",
      "\r\n",
      "Counts/sample detail:\r\n",
      "Lib1_Ln1_19UW-WB-08-10-O-SI: 0.000\r\n",
      "Lib1_Ln1_19UW-WB-18-05-A-LIn-redo: 0.000\r\n",
      "Lib1_Ln2_19UW-WB-08-10-O-SI: 0.000\r\n",
      "Lib1_Ln2_19UW-WB-18-05-A-LIn-redo: 0.000\r\n",
      "Lib2_Ln1_19UW-WB-06-08-O-pb-cDNA-REDO: 0.000\r\n"
     ]
    }
   ],
   "source": [
    "!head -20 ../data/LibCombined/full-diversity_OTU_table/feature-table-metaD-tax-summary.txt"
   ]
  },
  {
   "cell_type": "code",
   "execution_count": 10,
   "metadata": {},
   "outputs": [],
   "source": [
    "!biom convert \\\n",
    "-i ../data/LibCombined/full-diversity_OTU_table/feature-table-metaD-tax.biom \\\n",
    "-o ../data/LibCombined/full-diversity_OTU_table/feature-table-metaD-tax_json.biom \\\n",
    "--table-type=\"OTU table\" \\\n",
    "--to-json"
   ]
  },
  {
   "cell_type": "code",
   "execution_count": 11,
   "metadata": {},
   "outputs": [
    {
     "name": "stdout",
     "output_type": "stream",
     "text": [
      "dna-sequences.fasta                 feature-table-metaD.biom\r\n",
      "feature-table-metaD-tax-summary.txt feature-table.biom\r\n",
      "feature-table-metaD-tax.biom        taxonomy.tsv\r\n",
      "feature-table-metaD-tax_json.biom   temporary-metadata.csv\r\n"
     ]
    }
   ],
   "source": [
    "!ls ../data/LibCombined/full-diversity_OTU_table/"
   ]
  },
  {
   "cell_type": "code",
   "execution_count": 12,
   "metadata": {},
   "outputs": [
    {
     "name": "stdout",
     "output_type": "stream",
     "text": [
      "^C\r\n",
      "\r\n",
      "Aborted!\r\n"
     ]
    }
   ],
   "source": [
    "!qiime phylogeny align-to-tree-mafft-fasttree \\\n",
    "  --i-sequences ../data/LibCombined/full-diversity-rep-seqs.qza \\\n",
    "  --o-alignment ../data/LibCombined/aligned-rep-seqs.qza \\\n",
    "  --o-masked-alignment ../data/LibCombined/masked-aligned-rep-seqs.qza \\\n",
    "  --o-tree ../data/LibCombined/unrooted-tree.qza \\\n",
    "  --o-rooted-tree ../data/LibCombined/rooted-tree.qza"
   ]
  },
  {
   "cell_type": "code",
   "execution_count": 13,
   "metadata": {},
   "outputs": [
    {
     "name": "stdout",
     "output_type": "stream",
     "text": [
      "\u001b[32mExported ../data/LibCombined/unrooted-tree.qza as NewickDirectoryFormat to directory ../data/LibCombined/exported-tree\u001b[0m\r\n"
     ]
    }
   ],
   "source": [
    "!qiime tools export \\\n",
    "  --input-path ../data/LibCombined/unrooted-tree.qza \\\n",
    "  --output-path ../data/LibCombined/exported-tree"
   ]
  },
  {
   "cell_type": "code",
   "execution_count": null,
   "metadata": {},
   "outputs": [],
   "source": []
  }
 ],
 "metadata": {
  "kernelspec": {
   "display_name": "Python 3",
   "language": "python",
   "name": "python3"
  },
  "language_info": {
   "codemirror_mode": {
    "name": "ipython",
    "version": 3
   },
   "file_extension": ".py",
   "mimetype": "text/x-python",
   "name": "python",
   "nbconvert_exporter": "python",
   "pygments_lexer": "ipython3",
   "version": "3.6.13"
  }
 },
 "nbformat": 4,
 "nbformat_minor": 2
}
